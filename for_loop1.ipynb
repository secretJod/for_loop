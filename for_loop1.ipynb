{
 "cells": [
  {
   "cell_type": "markdown",
   "id": "96543c8a-1044-4412-938b-7ba90e749c90",
   "metadata": {},
   "source": [
    " 1. Write a Python program to print the numbers from 1 to 10 using a `for` loop."
   ]
  },
  {
   "cell_type": "code",
   "execution_count": 3,
   "id": "ecd4624d-8c9f-414b-a4d9-ed0ab28b81b0",
   "metadata": {},
   "outputs": [
    {
     "name": "stdout",
     "output_type": "stream",
     "text": [
      "Numbers from 1 to 10 :\n",
      "1 ,2 ,3 ,4 ,5 ,6 ,7 ,8 ,9 ,10 ,"
     ]
    }
   ],
   "source": [
    "\n",
    "n=10                                           #var n containing value 10\n",
    "print(\"Numbers from 1 to 10 :\")       \n",
    "for natural_number in range(1,n+1):            #using for loop in range of 1 to n+1\n",
    "    print(natural_number,end=' ,')             #printint natural number"
   ]
  },
  {
   "cell_type": "markdown",
   "id": "9ef1fdb9-bcfc-4ee0-95ae-318943610269",
   "metadata": {},
   "source": [
    " 2. Create a program that calculates the sum of all numbers in a list using a `for` loop."
   ]
  },
  {
   "cell_type": "code",
   "execution_count": 4,
   "id": "2d4f4c45-280d-49f5-a502-58a40a1cdef7",
   "metadata": {},
   "outputs": [
    {
     "name": "stdout",
     "output_type": "stream",
     "text": [
      "[1, 2, 3, 4, 5]\n",
      "here is the sum of all elements of list: 15\n"
     ]
    }
   ],
   "source": [
    "\n",
    "list1=[]                                 #creating empty list\n",
    "for i in range(1,6):                     #using loop in range of 1 to 6\n",
    "    list1.append(i)                      #appending i in the list to fill the empty list\n",
    "print(list1)                             #here our list is ready\n",
    "sum_of_list=0                                    #intializing var sum with zero\n",
    "for j in list1:                          #using loop to iterated the elements in list 1 \n",
    "    sum_of_list+=j                               #adding j in sum basically every element in sum\n",
    "print(\"here is the sum of all elements of list:\",sum_of_list)                               #printing the sum of  list\n"
   ]
  },
  {
   "cell_type": "markdown",
   "id": "4b067176-69e4-4f08-9f75-7e4e82d3bbdd",
   "metadata": {},
   "source": [
    "3. Write a program to print the characters of a string in reverse order using a `for` loop."
   ]
  },
  {
   "cell_type": "code",
   "execution_count": 5,
   "id": "bf126f8f-6784-4ff2-904b-b7f6752c394c",
   "metadata": {},
   "outputs": [
    {
     "name": "stdout",
     "output_type": "stream",
     "text": [
      "Reversed string :\n",
      "narak si siht olleH"
     ]
    }
   ],
   "source": [
    "string1=\"Hello this is karan\"         #here is the given string\n",
    "print(\"Reversed string :\")            \n",
    "\n",
    "for char in string1[::-1]:            #using for loop to iterate the elements of the string\n",
    "    print(char,end='')                #printing the reverse os string"
   ]
  },
  {
   "cell_type": "markdown",
   "id": "36aede86-cbac-40f4-98a7-cf37b997c382",
   "metadata": {},
   "source": [
    "4. Develop a program that finds the factorial of a given number using a `for` loop."
   ]
  },
  {
   "cell_type": "code",
   "execution_count": 7,
   "id": "5ee63b51-d183-4fe1-9012-4f35fee7fe83",
   "metadata": {},
   "outputs": [
    {
     "name": "stdin",
     "output_type": "stream",
     "text": [
      "Enter the number whose factorial is to calculate : 67\n"
     ]
    },
    {
     "name": "stdout",
     "output_type": "stream",
     "text": [
      "factorial of 67 is : 36471110918188685288249859096605464427167635314049524593701628500267962436943872000000000000000\n"
     ]
    }
   ],
   "source": [
    "def fact_num(n):\n",
    "    if n==0:                                     #using a if else statement which return 1 when n is eq to 0\n",
    "        return 1\n",
    "    else:                                        \n",
    "        factorial=1                              #intializing var factorial with 1\n",
    "        for i in range(1,n+1):                   #using for loop\n",
    "            factorial*=i                         #multiplying i into the factorial\n",
    "        return factorial                         #returning the the value og factorial\n",
    "\n",
    "    \n",
    "n=int(input(\"Enter the number whose factorial is to calculate :\"))         #creating a var to take user input,which number factorial you want\n",
    "print(f'factorial of {n} is :',fact_num(n))                                                         #putting value in function to get the fact of num\n"
   ]
  },
  {
   "cell_type": "markdown",
   "id": "139e608e-614e-46dc-a301-975ab8bb657b",
   "metadata": {},
   "source": [
    "5. Create a program to print the multiplication table of a given number using a `for` loop."
   ]
  },
  {
   "cell_type": "code",
   "execution_count": 8,
   "id": "a729b261-68b8-46b2-8919-6094871f675d",
   "metadata": {},
   "outputs": [
    {
     "name": "stdin",
     "output_type": "stream",
     "text": [
      "enter the number whose table you want to print 45\n"
     ]
    },
    {
     "name": "stdout",
     "output_type": "stream",
     "text": [
      "the table of 45 is:\n",
      "45 X 1 : 45\n",
      "45 X 2 : 90\n",
      "45 X 3 : 135\n",
      "45 X 4 : 180\n",
      "45 X 5 : 225\n",
      "45 X 6 : 270\n",
      "45 X 7 : 315\n",
      "45 X 8 : 360\n",
      "45 X 9 : 405\n",
      "45 X 10 : 450\n",
      "45 X 11 : 495\n",
      "45 X 12 : 540\n"
     ]
    }
   ],
   "source": [
    "def table(num):\n",
    "    n=12\n",
    "    for i in range(1,n+1):\n",
    "        result=num*i\n",
    "        print(f'{num} X {i} :',result)\n",
    "\n",
    "\n",
    "table_to_print=int(input(\"enter the number whose table you want to print\"))\n",
    "print(f'the table of {table_to_print} is:')\n",
    "table(table_to_print)"
   ]
  },
  {
   "cell_type": "markdown",
   "id": "9e133551-527f-439b-849e-b7682f282d1b",
   "metadata": {},
   "source": [
    "6. Write a program that counts the number of even and odd numbers in a list using a `for` loop."
   ]
  },
  {
   "cell_type": "code",
   "execution_count": 9,
   "id": "015afb7d-ae0c-4ad2-981f-1bfe1cf953a8",
   "metadata": {},
   "outputs": [
    {
     "name": "stdout",
     "output_type": "stream",
     "text": [
      "finding even and odd count in :  [14, 14, 4, 12, 8, 5, 10, 12, 16]\n"
     ]
    },
    {
     "data": {
      "text/plain": [
       "('the even count is : ', 8, 'the odd count is : ', 1)"
      ]
     },
     "execution_count": 9,
     "metadata": {},
     "output_type": "execute_result"
    }
   ],
   "source": [
    "def even_odd(list1):\n",
    "    even_count=0\n",
    "    odd_count=0\n",
    "    for i in list1:\n",
    "        if i%2==0:\n",
    "            even_count+=1\n",
    "        else:\n",
    "            odd_count+=1\n",
    "    return 'the even count is : ', even_count , 'the odd count is : ', odd_count\n",
    "import random\n",
    "list1=[]\n",
    "for i in range(1,10):\n",
    "    random_num=random.randint(1,20)\n",
    "    list1.append(random_num)\n",
    "print(\"finding even and odd count in : \" , list1)\n",
    "\n",
    "even_odd(list1)"
   ]
  },
  {
   "cell_type": "markdown",
   "id": "c4f7fd93-6a50-40a0-9286-4523be989e9e",
   "metadata": {},
   "source": [
    "7. Develop a program that prints the squares of numbers from 1 to 5 using a `for` loop."
   ]
  },
  {
   "cell_type": "code",
   "execution_count": 10,
   "id": "b680c4e2-0eda-49dc-8536-be27ed5b0b79",
   "metadata": {},
   "outputs": [
    {
     "name": "stdout",
     "output_type": "stream",
     "text": [
      "1\n",
      "4\n",
      "9\n",
      "16\n",
      "25\n"
     ]
    }
   ],
   "source": [
    "def square_num():\n",
    "    for i in range(1,5+1):\n",
    "        print(i**2)\n",
    "\n",
    "square_num()"
   ]
  },
  {
   "cell_type": "markdown",
   "id": "04922de6-f361-4fb9-ae45-b869e56510a2",
   "metadata": {},
   "source": [
    "8. Create a program to find the length of a string without using the `len()` function."
   ]
  },
  {
   "cell_type": "code",
   "execution_count": 11,
   "id": "de7d2d99-1f6c-4a21-9ae2-1acf49955e9d",
   "metadata": {},
   "outputs": [
    {
     "name": "stdout",
     "output_type": "stream",
     "text": [
      "length of a string : 147\n"
     ]
    }
   ],
   "source": [
    "length_of_string=0\n",
    "string1=\"So, let’s suppose that you have done some brainstorming to develop your thesis. What else should you keep in mind as you begin to create paragraphs\"\n",
    "for char in string1:\n",
    "    length_of_string+=1\n",
    "print(\"length of a string :\",length_of_string)"
   ]
  },
  {
   "cell_type": "markdown",
   "id": "8aa8b6cf-b5b8-44bb-990e-185a845f83dd",
   "metadata": {},
   "source": [
    "9. Write a program that calculates the average of a list of numbers using a `for` loop."
   ]
  },
  {
   "cell_type": "code",
   "execution_count": 12,
   "id": "4aac6e2d-cd98-495c-be1d-3c1a0e341a76",
   "metadata": {},
   "outputs": [
    {
     "name": "stdout",
     "output_type": "stream",
     "text": [
      "the average of a given list : 3\n"
     ]
    }
   ],
   "source": [
    "list1=[1,2,3,4,5]\n",
    "total=0\n",
    "length=0\n",
    "for i in list1:\n",
    "    total+=i\n",
    "    length+=1\n",
    "average_list=total//length\n",
    "print(\"the average of a given list :\",average_list)\n",
    "\n"
   ]
  },
  {
   "cell_type": "markdown",
   "id": "c516703b-5c1a-4b01-aa1a-99e3cd7cc6ef",
   "metadata": {},
   "source": [
    "10. Develop a program that prints the first `n` Fibonacci numbers using a `for` loop.\n"
   ]
  },
  {
   "cell_type": "code",
   "execution_count": 15,
   "id": "72785bb9-76f5-4a54-8e9d-90558563163c",
   "metadata": {},
   "outputs": [
    {
     "name": "stdin",
     "output_type": "stream",
     "text": [
      "enter how many fib terms you want 34\n"
     ]
    },
    {
     "name": "stdout",
     "output_type": "stream",
     "text": [
      "Here is your Fib series :  0 1 1 2 3 5 8 13 21 34 55 89 144 233 377 610 987 1597 2584 4181 6765 10946 17711 28657 46368 75025 121393 196418 317811 514229 832040 1346269 2178309 3524578 5702887 "
     ]
    }
   ],
   "source": [
    "first_term=0\n",
    "second_term=1\n",
    "n=int(input(\"enter how many fib terms you want\"))\n",
    "print(\"Here is your Fib series : \",end=' ')\n",
    "for i in range(n+1):\n",
    "    print(first_term,end=\" \")\n",
    "    next_term=first_term + second_term\n",
    "    \n",
    "    first_term = second_term\n",
    "    second_term = next_term\n",
    "    \n",
    "    "
   ]
  },
  {
   "cell_type": "markdown",
   "id": "89567f1c-f26f-4db5-9c33-ca58e75721e5",
   "metadata": {},
   "source": [
    "11. Write a program to check if a given list contains any duplicates using a `for` loop."
   ]
  },
  {
   "cell_type": "code",
   "execution_count": 16,
   "id": "68dd00ca-e885-493c-a954-d6f1237d81c1",
   "metadata": {},
   "outputs": [
    {
     "name": "stdout",
     "output_type": "stream",
     "text": [
      "yes  the list contain dublicates\n",
      "no the list does not contain dublicates\n"
     ]
    }
   ],
   "source": [
    "def dublicates(list1):\n",
    "    n=len(list1)\n",
    "    for i in range(n):\n",
    "        for  j in range(i+1,n):\n",
    "            if list1[i]==list1[j]:\n",
    "                return True\n",
    "    return False    \n",
    "\n",
    "my_list = [1, 2, 3, 4, 5, 2]\n",
    "if dublicates(my_list):\n",
    "    print(\"yes  the list contain dublicates\")\n",
    "else:\n",
    "    print(\"no the list does not contain dublicates\")\n",
    "\n",
    "'''(\"Here is another example\")'''\n",
    "\n",
    "my_list2=[23,5,2,1,4,45]\n",
    "if dublicates(my_list2):\n",
    "    print(\"yes  the list contain dublicates\")\n",
    "else:\n",
    "    print(\"no the list does not contain dublicates\")\n",
    "\n",
    "    "
   ]
  },
  {
   "cell_type": "markdown",
   "id": "74db298a-eba0-4537-a286-d0ff226528eb",
   "metadata": {},
   "source": [
    "\n",
    "12. Create a program that prints the prime numbers in a given range using a `for` loop."
   ]
  },
  {
   "cell_type": "code",
   "execution_count": 17,
   "id": "84bf971f-433b-46f0-9072-b1794420fd4a",
   "metadata": {},
   "outputs": [
    {
     "name": "stdin",
     "output_type": "stream",
     "text": [
      "enter the starting range 2\n",
      "enter the ending range 24\n"
     ]
    },
    {
     "name": "stdout",
     "output_type": "stream",
     "text": [
      "Prime numbers between 2 and 24:\n",
      "2\n",
      "3\n",
      "5\n",
      "7\n",
      "11\n",
      "13\n",
      "17\n",
      "19\n",
      "23\n"
     ]
    }
   ],
   "source": [
    "class PrimeChecker:\n",
    "    def __init__(self, num):\n",
    "        self.num = num\n",
    "\n",
    "    def is_prime(self):\n",
    "        if self.num < 2:\n",
    "            return False\n",
    "        for i in range(2, int(self.num**0.5) + 1):\n",
    "            if self.num % i == 0:\n",
    "                return False\n",
    "        return True\n",
    "\n",
    "class PrimePrinter:\n",
    "    def __init__(self, start, end):\n",
    "        self.start = start\n",
    "        self.end = end\n",
    "\n",
    "    def print_primes_in_range(self):\n",
    "        for num in range(self.start, self.end + 1):\n",
    "            prime_checker = PrimeChecker(num)\n",
    "            if prime_checker.is_prime():\n",
    "                print(num)\n",
    "\n",
    "\n",
    "start_range = int(input(\"enter the starting range\"))\n",
    "end_range = int(input(\"enter the ending range\"))\n",
    "\n",
    "prime_printer = PrimePrinter(start_range, end_range)\n",
    "print(f\"Prime numbers between {start_range} and {end_range}:\")\n",
    "prime_printer.print_primes_in_range()\n"
   ]
  },
  {
   "cell_type": "markdown",
   "id": "0e608c3b-4a56-47c3-bb7d-a0608ebfbc83",
   "metadata": {},
   "source": [
    "13. Develop a program that counts the number of vowels in a string using a `for` loop."
   ]
  },
  {
   "cell_type": "code",
   "execution_count": 18,
   "id": "cadf26ac-e46d-4040-bdf3-d082329e90ce",
   "metadata": {},
   "outputs": [
    {
     "name": "stdin",
     "output_type": "stream",
     "text": [
      "enter the string karan is a beast\n"
     ]
    },
    {
     "name": "stdout",
     "output_type": "stream",
     "text": [
      "here is the number of vowels present in the given string : 6\n"
     ]
    }
   ],
   "source": [
    "def count_vowel(string):\n",
    "    vowels = \"aeiouAEIOU\"\n",
    "    vowel_count=0\n",
    "    for char in string:\n",
    "        if char in vowels:\n",
    "            vowel_count+=1\n",
    "    return vowel_count\n",
    "input_string=input(\"enter the string\")\n",
    "result=count_vowel(input_string)\n",
    "print(\"here is the number of vowels present in the given string :\",result)\n",
    "            "
   ]
  },
  {
   "cell_type": "markdown",
   "id": "cbc15836-1227-41c5-a365-129049526862",
   "metadata": {},
   "source": [
    "14. Write a program to find the maximum element in a 2D list using a nested `for` loop."
   ]
  },
  {
   "cell_type": "code",
   "execution_count": 19,
   "id": "e6d697a8-2b7f-4322-95ac-11e709b5f393",
   "metadata": {},
   "outputs": [
    {
     "name": "stdout",
     "output_type": "stream",
     "text": [
      "max element of  a nested list is : 9\n"
     ]
    }
   ],
   "source": [
    "def find_max(arr):\n",
    "    maxi=float('-inf')\n",
    "    for rows in arr:\n",
    "        for elements in rows:\n",
    "            if elements>maxi:\n",
    "                maxi=elements\n",
    "    return maxi\n",
    "\n",
    "nested_list=[\n",
    "    [3, 7, 1],\n",
    "    [9, 4, 8],\n",
    "    [2, 5, 6]\n",
    "]\n",
    "result=find_max(nested_list)\n",
    "print(f'max element of  a nested list is : {result}')\n",
    "    "
   ]
  },
  {
   "cell_type": "markdown",
   "id": "5116c7a3-f2fd-49a9-bdb0-4ef89ad2e4de",
   "metadata": {},
   "source": [
    "15. Create a program that removes all occurrences of a specific element from a list using a `for` loop."
   ]
  },
  {
   "cell_type": "code",
   "execution_count": 20,
   "id": "0c347573-4628-4466-ba98-290092e15e74",
   "metadata": {},
   "outputs": [
    {
     "name": "stdout",
     "output_type": "stream",
     "text": [
      "orignal list : [1, 2, 3, 2, 4, 2, 5]\n",
      "updated list after removing element  2 : [1, 3, 4, 5]\n"
     ]
    }
   ],
   "source": [
    "def remove_ele_occurence(list1,ele_to_remove):\n",
    "    updated_list=[iteams for iteams in list1 if iteams !=ele_to_remove]\n",
    "    return updated_list\n",
    "\n",
    "orignal_list = [1, 2, 3, 2, 4, 2, 5]\n",
    "element_to_remove = 2\n",
    "\n",
    "update_list=remove_ele_occurence(orignal_list,element_to_remove)\n",
    "print(f'orignal list : {orignal_list}')\n",
    "print(f'updated list after removing element  {element_to_remove} : {update_list}')"
   ]
  },
  {
   "cell_type": "markdown",
   "id": "5069d02c-f4df-442f-82fa-314a2152ed61",
   "metadata": {},
   "source": [
    "16. Develop a program that generates a multiplication table for numbers from 1 to 5 using a nested `for` loop."
   ]
  },
  {
   "cell_type": "code",
   "execution_count": 21,
   "id": "ecd60e29-9dd5-41ec-8e4c-c2d34668412d",
   "metadata": {},
   "outputs": [
    {
     "name": "stdin",
     "output_type": "stream",
     "text": [
      "enter how many multiples you want 12\n"
     ]
    },
    {
     "name": "stdout",
     "output_type": "stream",
     "text": [
      "1 X 1 = 1\n",
      "1 X 2 = 2\n",
      "1 X 3 = 3\n",
      "1 X 4 = 4\n",
      "1 X 5 = 5\n",
      "1 X 6 = 6\n",
      "1 X 7 = 7\n",
      "1 X 8 = 8\n",
      "1 X 9 = 9\n",
      "1 X 10 = 10\n",
      "1 X 11 = 11\n",
      "1 X 12 = 12\n",
      "1 X 13 = 13\n",
      "2 X 1 = 2\n",
      "2 X 2 = 4\n",
      "2 X 3 = 6\n",
      "2 X 4 = 8\n",
      "2 X 5 = 10\n",
      "2 X 6 = 12\n",
      "2 X 7 = 14\n",
      "2 X 8 = 16\n",
      "2 X 9 = 18\n",
      "2 X 10 = 20\n",
      "2 X 11 = 22\n",
      "2 X 12 = 24\n",
      "2 X 13 = 26\n",
      "3 X 1 = 3\n",
      "3 X 2 = 6\n",
      "3 X 3 = 9\n",
      "3 X 4 = 12\n",
      "3 X 5 = 15\n",
      "3 X 6 = 18\n",
      "3 X 7 = 21\n",
      "3 X 8 = 24\n",
      "3 X 9 = 27\n",
      "3 X 10 = 30\n",
      "3 X 11 = 33\n",
      "3 X 12 = 36\n",
      "3 X 13 = 39\n",
      "4 X 1 = 4\n",
      "4 X 2 = 8\n",
      "4 X 3 = 12\n",
      "4 X 4 = 16\n",
      "4 X 5 = 20\n",
      "4 X 6 = 24\n",
      "4 X 7 = 28\n",
      "4 X 8 = 32\n",
      "4 X 9 = 36\n",
      "4 X 10 = 40\n",
      "4 X 11 = 44\n",
      "4 X 12 = 48\n",
      "4 X 13 = 52\n"
     ]
    }
   ],
   "source": [
    "starting_of_table=1\n",
    "end_of_table=5\n",
    "until=int(input(\"enter how many multiples you want\"))+1\n",
    "for i in range(starting_of_table,end_of_table):\n",
    "    for j in range(1,until+1):\n",
    "        print(f'{i} X {j} = {i*j}')"
   ]
  },
  {
   "cell_type": "markdown",
   "id": "1e3e8fde-99d5-4276-a7a0-603c2fd1908f",
   "metadata": {},
   "source": [
    "17. Write a program that converts a list of Fahrenheit temperatures to Celsius using a `for` loop."
   ]
  },
  {
   "cell_type": "code",
   "execution_count": 22,
   "id": "617fbc19-53bc-4522-9dad-52c465a259af",
   "metadata": {},
   "outputs": [
    {
     "name": "stdout",
     "output_type": "stream",
     "text": [
      "here is the list of temperature in fahrenheit: Temp in Feh : [32, 68, 212, 98.6]\n",
      "after converting fahrenheit to celsius list :Temp in ce [0.0, 20.0, 100.0, 37.0]\n"
     ]
    }
   ],
   "source": [
    "def celsius_converter(fehrenheit_temp):\n",
    "    celsius_temp=[]\n",
    "    for fehrenheit in fehrenheit_temp:\n",
    "        celsius=(fehrenheit-32) * 5.0/9.0\n",
    "        celsius_temp.append(celsius)\n",
    "    return celsius_temp\n",
    "\n",
    "fehrenheit_temps = [32, 68, 212, 98.6]\n",
    "celsius_temp=celsius_converter(fehrenheit_temps)\n",
    "\n",
    "print(\"here is the list of temperature in fahrenheit: Temp in Feh :\",fehrenheit_temps)\n",
    "print(\"after converting fahrenheit to celsius list :Temp in ce\", celsius_temp)\n",
    "    "
   ]
  },
  {
   "cell_type": "markdown",
   "id": "2ce05108-c78f-42ac-a2d3-18df064f0aba",
   "metadata": {},
   "source": [
    "18. Create a program to print the common elements from two lists using a `for` loop."
   ]
  },
  {
   "cell_type": "code",
   "execution_count": 23,
   "id": "f5d6aabe-1d87-4df7-a675-fd5abfb7d0fc",
   "metadata": {},
   "outputs": [
    {
     "name": "stdin",
     "output_type": "stream",
     "text": [
      "enter the ele to add in list 23\n",
      "enter the ele to add in list 34\n",
      "enter the ele to add in list 45\n",
      "enter the ele to add in list 64\n",
      "enter the ele to add in list 23\n",
      "enter the ele to add in list 12\n"
     ]
    },
    {
     "name": "stdout",
     "output_type": "stream",
     "text": [
      "[23]\n"
     ]
    }
   ],
   "source": [
    "def common_elements(list1,list2):\n",
    "    common=[]\n",
    "    for ele in list1:\n",
    "        if ele in list2:\n",
    "            common.append(ele)\n",
    "    return common\n",
    "list1 = []\n",
    "list2=[]\n",
    "for i in range(1,3+1):\n",
    "    ele=int(input(\"enter the ele to add in list\"))\n",
    "    list1.append(ele)\n",
    "for j in range(1,3+1):\n",
    "    ele2=int(input(\"enter the ele to add in list\"))\n",
    "    list2.append(ele2)\n",
    "common_element=(common_elements(list1,list2))\n",
    "print(common_element)"
   ]
  },
  {
   "cell_type": "markdown",
   "id": "e295a19e-5f3f-4968-beaa-ef692bb98601",
   "metadata": {},
   "source": [
    "19. Develop a program that prints the pattern of right-angled triangles using a `for` loop. Use ‘*’ to draw the\n",
    "pattern"
   ]
  },
  {
   "cell_type": "code",
   "execution_count": 24,
   "id": "3787d18c-b996-4931-9221-f1c2e1f182d5",
   "metadata": {},
   "outputs": [
    {
     "name": "stdin",
     "output_type": "stream",
     "text": [
      "enter the number 5\n"
     ]
    },
    {
     "name": "stdout",
     "output_type": "stream",
     "text": [
      "\n",
      "*\n",
      "**\n",
      "***\n",
      "****\n",
      "*****\n"
     ]
    }
   ],
   "source": [
    "n=int(input(\"enter the number\"))\n",
    "for i in range (n+1):\n",
    "    print(\"*\"*i)"
   ]
  },
  {
   "cell_type": "markdown",
   "id": "e4356c98-f029-4737-819c-d2b7f032d169",
   "metadata": {},
   "source": [
    "20. Write a program to find the greatest common divisor (GCD) of two numbers using a `for` loop."
   ]
  },
  {
   "cell_type": "code",
   "execution_count": 25,
   "id": "dea44fa8-85d4-4d14-89af-06072b00b410",
   "metadata": {},
   "outputs": [
    {
     "name": "stdin",
     "output_type": "stream",
     "text": [
      "Enter First Number -  12\n",
      "Enter Second Number -  24\n"
     ]
    },
    {
     "name": "stdout",
     "output_type": "stream",
     "text": [
      "12\n"
     ]
    }
   ],
   "source": [
    "a = int(input(\"Enter First Number - \"))\n",
    "b = int(input(\"Enter Second Number - \"))\n",
    "gcd = min(a,b)\n",
    "while(gcd > 0):\n",
    "    if(a % gcd == 0 and b % gcd == 0):\n",
    "        break\n",
    "    gcd -= 1\n",
    "print(gcd)"
   ]
  },
  {
   "cell_type": "markdown",
   "id": "aff65269-fa52-4cbf-a1ba-d144cc97d907",
   "metadata": {},
   "source": [
    "21. Create a program that calculates the sum of the digits of numbers in a list using a list comprehension."
   ]
  },
  {
   "cell_type": "code",
   "execution_count": 26,
   "id": "d2cf4f55-6ba6-4a1f-b1ad-497b335cce3e",
   "metadata": {},
   "outputs": [
    {
     "name": "stdout",
     "output_type": "stream",
     "text": [
      "[1, 4, 9, 16, 25, 36]\n"
     ]
    }
   ],
   "source": [
    "list1=[]\n",
    "for i in range(1,12,2):\n",
    "    list1.append(i)\n",
    "sum1=0\n",
    "sum_of_list=[sum1 :=sum1+j for  j in list1]\n",
    "print(sum_of_list)    "
   ]
  },
  {
   "cell_type": "markdown",
   "id": "bbe21b8c-a6e1-47f5-afd2-843d2085e204",
   "metadata": {},
   "source": [
    "22. Write a program to find the prime factors of a given number using a `for` loop and list comprehension."
   ]
  },
  {
   "cell_type": "code",
   "execution_count": 27,
   "id": "b7b452b8-4bad-4be8-9810-0e62281fb5e6",
   "metadata": {},
   "outputs": [
    {
     "name": "stdin",
     "output_type": "stream",
     "text": [
      "Enter a n:  34\n"
     ]
    },
    {
     "name": "stdout",
     "output_type": "stream",
     "text": [
      "Prime j of 34: [2]\n"
     ]
    }
   ],
   "source": [
    "def find_prime_factors(n):\n",
    "    pf = [i for i in range(2, n + 1) if n % i == 0 and all(i % i != 0 for i in range(2, int(i**0.5) + 1))]\n",
    "    return pf\n",
    "\n",
    "# Example:\n",
    "u_i = int(input(\"Enter a n: \"))\n",
    "j = find_prime_factors(u_i)\n",
    "\n",
    "if j:\n",
    "    print(f\"Prime j of {u_i}: {j}\")\n",
    "else:\n",
    "    print(f\"{u_i} has no prime j other than 1 and itself.\")\n"
   ]
  },
  {
   "cell_type": "markdown",
   "id": "3eb80a80-2306-4b5a-9321-8512dc619141",
   "metadata": {},
   "source": [
    "23. Develop a program that extracts unique elements from a list and stores them in a new list using a list\n",
    "comprehension."
   ]
  },
  {
   "cell_type": "code",
   "execution_count": 28,
   "id": "b86312b9-49ba-420d-905b-f91b52df9582",
   "metadata": {},
   "outputs": [
    {
     "name": "stdout",
     "output_type": "stream",
     "text": [
      "Here is the list which does not contain any dublicate: list[{2, 3, 4, 5, 6, 7, 35, 67, 344}]\n"
     ]
    }
   ],
   "source": [
    "def extract_unique(arr):\n",
    "    return list[{x for x in arr}]\n",
    "input_list=[2,2,2,2,2,4,4,5,6,7,7,4,3,2,35,6,5,7,7,344,67]\n",
    "updated_arr=extract_unique(input_list)\n",
    "print(\"Here is the list which does not contain any dublicate:\",updated_arr)"
   ]
  },
  {
   "cell_type": "raw",
   "id": "415de823-1a49-4691-8cab-fe7feb3853eb",
   "metadata": {},
   "source": [
    "\n",
    "\n",
    "\n",
    "Challenge Level:\n",
    "\n",
    "\n",
    "Assignment Questions\n",
    "\n",
    "Full Stack Data Science Pro\n",
    "\n",
    "\n"
   ]
  },
  {
   "cell_type": "markdown",
   "id": "35d6c70e-d960-43a5-979a-c69d0e0ee07c",
   "metadata": {},
   "source": [
    "24. Create a program that generates a list of all palindromic numbers up to a specified limit using a list comprehension."
   ]
  },
  {
   "cell_type": "code",
   "execution_count": 7,
   "id": "67a548eb-2056-4ef7-85b2-ab607764a4cd",
   "metadata": {},
   "outputs": [
    {
     "name": "stdin",
     "output_type": "stream",
     "text": [
      "Enter the starting point:  12\n",
      "Enter the ending point:  344\n"
     ]
    },
    {
     "name": "stdout",
     "output_type": "stream",
     "text": [
      "[22, 33, 44, 55, 66, 77, 88, 99, 101, 111, 121, 131, 141, 151, 161, 171, 181, 191, 202, 212, 222, 232, 242, 252, 262, 272, 282, 292, 303, 313, 323, 333, 343]\n",
      "here is the another method\n"
     ]
    },
    {
     "name": "stdin",
     "output_type": "stream",
     "text": [
      "enter the number 455\n"
     ]
    },
    {
     "name": "stdout",
     "output_type": "stream",
     "text": [
      "[0, 1, 2, 3, 4, 5, 6, 7, 8, 9, 11, 22, 33, 44, 55, 66, 77, 88, 99, 101, 111, 121, 131, 141, 151, 161, 171, 181, 191, 202, 212, 222, 232, 242, 252, 262, 272, 282, 292, 303, 313, 323, 333, 343, 353, 363, 373, 383, 393, 404, 414, 424, 434, 444, 454]\n"
     ]
    }
   ],
   "source": [
    "def is_palindrome(num):\n",
    "    original_num = num\n",
    "    reversed_num = 0\n",
    "\n",
    "    while num > 0:\n",
    "        digit = num % 10\n",
    "        reversed_num = reversed_num * 10 + digit\n",
    "        num //= 10  # Fix: Use //= 10 to continue dividing by 10\n",
    "\n",
    "    return original_num == reversed_num\n",
    "\n",
    "def generate(start, end):\n",
    "    palindrome = [num for num in range(start, end + 1) if is_palindrome(num)]\n",
    "    return palindrome\n",
    "\n",
    "start = int(input(\"Enter the starting point: \"))\n",
    "end = int(input(\"Enter the ending point: \"))\n",
    "palindrome_list = generate(start, end)\n",
    "print(palindrome_list)\n",
    "\n",
    "#or \n",
    "print(\"here is the another method\")\n",
    "def pallindrome2(num2):\n",
    "    return str(num2)==str(num2)[::-1]\n",
    "def generate2(upper_limit):\n",
    "    return [num2 for num2 in range(upper_limit+1) if pallindrome2(num2)]\n",
    "upper_limit=int(input(\"enter the number\"))\n",
    "print(generate2(upper_limit))\n"
   ]
  },
  {
   "cell_type": "markdown",
   "id": "3d6d6200-a5f3-4288-9a03-fafced28caf6",
   "metadata": {},
   "source": [
    "25. Write a program to flatten a nested list using list comprehension."
   ]
  },
  {
   "cell_type": "code",
   "execution_count": null,
   "id": "914efa38-4e80-476e-9b0f-415c0b0a08cf",
   "metadata": {},
   "outputs": [
    {
     "name": "stdout",
     "output_type": "stream",
     "text": [
      "[1, 2, 3, 4, 5, 6, 7, 8]\n"
     ]
    }
   ],
   "source": [
    "def flatten_the_list(nested_list):\n",
    "    return [item for sublist in nested_list for item in (flatten_nested_list(sublist) if isinstance(sublist, list) else [sublist])]\n",
    "\n",
    "nested_list=[1,[2,[3,4],5],6,[7,8]]\n",
    "print(flat_the_list(nested_list))\n"
   ]
  },
  {
   "cell_type": "markdown",
   "id": "b1c5e225-2ade-4401-8539-7f9c257eea5f",
   "metadata": {},
   "source": [
    "26. Develop a program that computes the sum of even and odd numbers in a list separately using list\n",
    "comprehension."
   ]
  },
  {
   "cell_type": "code",
   "execution_count": 10,
   "id": "560c964f-5cd5-45aa-a308-042ec2d35e64",
   "metadata": {},
   "outputs": [
    {
     "name": "stdout",
     "output_type": "stream",
     "text": [
      "('here is the sum of even numbers :', 30, 'here is the sum of odd numbers :', 25)\n"
     ]
    }
   ],
   "source": [
    "def sum_even_odd(list1):\n",
    "    sum_even=[i for i in list1 if i%2==0]\n",
    "    sum_odd=[j for j in list1 if j%2!=0]\n",
    "    return 'here is the sum of even numbers :',sum(sum_even),'here is the sum of odd numbers :',sum(sum_odd)\n",
    "\n",
    "given_list=[1,2,3,4,5,6,7,8,9,10]\n",
    "print(sum_even_odd(given_list))\n",
    "    "
   ]
  },
  {
   "cell_type": "markdown",
   "id": "4accf5fa-d408-44a0-8a60-4d7b885cf0fb",
   "metadata": {},
   "source": [
    "27. Create a program that generates a list of squares of odd numbers between 1 and 10 using list\n",
    "comprehension."
   ]
  },
  {
   "cell_type": "code",
   "execution_count": 14,
   "id": "a2102900-a835-450e-83fc-a07bfcc96807",
   "metadata": {},
   "outputs": [
    {
     "name": "stdout",
     "output_type": "stream",
     "text": [
      "Here s the square of odd numbers between  1 to 10 : [1, 9, 25, 49, 81]\n"
     ]
    }
   ],
   "source": [
    "sq_of_odd_num=[i**2 for i in range(1,11) if i%2!=0]\n",
    "print(\"Here s the square of odd numbers between  1 to 10 :\",sq_of_odd_num)\n",
    "    "
   ]
  },
  {
   "cell_type": "markdown",
   "id": "168d94b9-8c4a-442b-8cb1-1b6b28a1b710",
   "metadata": {},
   "source": [
    "28. Write a program that combines two lists into a dictionary using list comprehension."
   ]
  },
  {
   "cell_type": "code",
   "execution_count": 16,
   "id": "5eeceed2-b987-4038-a06c-048ca7236d92",
   "metadata": {},
   "outputs": [
    {
     "name": "stdout",
     "output_type": "stream",
     "text": [
      "{1: 'a', 2: 'b', 3: 'c', 4: 'd'}\n"
     ]
    }
   ],
   "source": [
    "def combine_two_list(keys,value):\n",
    "    return {keys[i]:values[i] for i in range (min(len(keys),len(values)))}\n",
    "keys=[1,2,3,4]\n",
    "values=['a','b','c','d']\n",
    "make_dict=combine_two_list(keys,values)\n",
    "print(make_dict)"
   ]
  },
  {
   "cell_type": "markdown",
   "id": "49c3fd19-a23d-4380-a86c-3dccc5e6e8fc",
   "metadata": {},
   "source": [
    "\n",
    "29. Develop a program that extracts the vowels from a string and stores them in a list using list comprehension."
   ]
  },
  {
   "cell_type": "code",
   "execution_count": 17,
   "id": "90b82612-fbd8-4c02-8d34-b7129e140786",
   "metadata": {},
   "outputs": [
    {
     "name": "stdin",
     "output_type": "stream",
     "text": [
      "enter the string to extract the vowels karan is a beast boy he can fight with 10 people at sane time\n"
     ]
    },
    {
     "name": "stdout",
     "output_type": "stream",
     "text": [
      "['a', 'a', 'i', 'a', 'e', 'a', 'o', 'e', 'a', 'i', 'i', 'e', 'o', 'e', 'a', 'a', 'e', 'i', 'e']\n"
     ]
    }
   ],
   "source": [
    "def extract_vowels(string):\n",
    "    vowels='aeiou'\n",
    "    return [char for char in string if char.lower() in vowels]\n",
    "\n",
    "input_string=input(\"enter the string to extract the vowels\")\n",
    "print(extract_vowels(input_string))"
   ]
  },
  {
   "cell_type": "markdown",
   "id": "c672d88d-9ce3-4949-9be1-e6a6ddd68087",
   "metadata": {},
   "source": [
    "\n",
    "30. Create a program that removes all non-numeric characters from a list of strings using list comprehension.\n"
   ]
  },
  {
   "cell_type": "code",
   "execution_count": 19,
   "id": "5367b973-2715-458e-85ba-7ff388ba06cb",
   "metadata": {},
   "outputs": [
    {
     "name": "stdout",
     "output_type": "stream",
     "text": [
      "['123', '45', '789', '123']\n"
     ]
    }
   ],
   "source": [
    "def remove_non_numeric(list1):\n",
    "    cleaned_list=[ ''.join(char for char in s if char.isdigit()) for s in list1]\n",
    "    return cleaned_list\n",
    "strings_list = ['abc123', '45xyz', '789', '1a2b3c']\n",
    "print(remove_non_numeric(strings_list))"
   ]
  },
  {
   "cell_type": "markdown",
   "id": "25a4d241-b891-46ff-9fba-ac73256c7c5c",
   "metadata": {},
   "source": [
    "31. Write a program to generate a list of prime numbers using the Sieve of Eratosthenes algorithm and list\n",
    "comprehension."
   ]
  },
  {
   "cell_type": "code",
   "execution_count": 1,
   "id": "1acd8249-30e2-4ac0-a3cf-52cbda83bc0f",
   "metadata": {},
   "outputs": [
    {
     "name": "stdout",
     "output_type": "stream",
     "text": [
      "Prime numbers up to 50: [2, 3, 5, 7, 11, 13, 17, 19, 23, 29, 31, 37, 41, 43, 47]\n"
     ]
    }
   ],
   "source": [
    "def sieve_of_eratosthenes(limit):\n",
    "    is_prime = [True] * (limit + 1)\n",
    "    is_prime[0] = is_prime[1] = False\n",
    "    \n",
    "    for i in range(2, int(limit**0.5) + 1):\n",
    "        if is_prime[i]:\n",
    "            is_prime[i*i : limit + 1 : i] = [False] * len(is_prime[i*i : limit + 1 : i])\n",
    "\n",
    "    primes = [num for num in range(2, limit + 1) if is_prime[num]]\n",
    "    return primes\n",
    "\n",
    "limit = 50\n",
    "prime_numbers = sieve_of_eratosthenes(limit)\n",
    "print(f\"Prime numbers up to {limit}: {prime_numbers}\")\n"
   ]
  },
  {
   "cell_type": "markdown",
   "id": "b2d05f7a-5aa6-453b-a31a-f4aa54499143",
   "metadata": {},
   "source": [
    "32. Create a program that generates a list of all Pythagorean triplets up to a specified limit using list\n",
    "comprehension.\n"
   ]
  },
  {
   "cell_type": "code",
   "execution_count": 2,
   "id": "84e030c2-3407-47dd-98ee-dbde1c2ebe9b",
   "metadata": {},
   "outputs": [
    {
     "name": "stdin",
     "output_type": "stream",
     "text": [
      "enter the limit 56\n"
     ]
    },
    {
     "name": "stdout",
     "output_type": "stream",
     "text": [
      "[(0, 0, 0), (0, 1, 1), (0, 2, 2), (0, 3, 3), (0, 4, 4), (0, 5, 5), (0, 6, 6), (0, 7, 7), (0, 8, 8), (0, 9, 9), (0, 10, 10), (0, 11, 11), (0, 12, 12), (0, 13, 13), (0, 14, 14), (0, 15, 15), (0, 16, 16), (0, 17, 17), (0, 18, 18), (0, 19, 19), (0, 20, 20), (0, 21, 21), (0, 22, 22), (0, 23, 23), (0, 24, 24), (0, 25, 25), (0, 26, 26), (0, 27, 27), (0, 28, 28), (0, 29, 29), (0, 30, 30), (0, 31, 31), (0, 32, 32), (0, 33, 33), (0, 34, 34), (0, 35, 35), (0, 36, 36), (0, 37, 37), (0, 38, 38), (0, 39, 39), (0, 40, 40), (0, 41, 41), (0, 42, 42), (0, 43, 43), (0, 44, 44), (0, 45, 45), (0, 46, 46), (0, 47, 47), (0, 48, 48), (0, 49, 49), (0, 50, 50), (0, 51, 51), (0, 52, 52), (0, 53, 53), (0, 54, 54), (0, 55, 55), (0, 56, 56), (3, 4, 5), (5, 12, 13), (6, 8, 10), (7, 24, 25), (8, 15, 17), (9, 12, 15), (9, 40, 41), (10, 24, 26), (12, 16, 20), (12, 35, 37), (14, 48, 50), (15, 20, 25), (15, 36, 39), (16, 30, 34), (18, 24, 30), (20, 21, 29), (20, 48, 52), (21, 28, 35), (24, 32, 40), (24, 45, 51), (27, 36, 45), (28, 45, 53), (30, 40, 50), (33, 44, 55)]\n"
     ]
    }
   ],
   "source": [
    "limit=int(input(\"enter the limit\"))\n",
    "pythagorean_triplet=[(a,b,c) for a in range(limit+1) for b in range(a,limit+1) for c in range(b,limit+1) if a**2 +b**2 == c**2]\n",
    "print(pythagorean_triplet)"
   ]
  },
  {
   "cell_type": "markdown",
   "id": "13bf04ce-889c-4f48-bc5c-f82d37600024",
   "metadata": {},
   "source": [
    "\n",
    "33. Develop a program that generates a list of all possible combinations of two lists using list comprehension."
   ]
  },
  {
   "cell_type": "code",
   "execution_count": 1,
   "id": "a027fb56-68b0-4640-b5bd-93c18a946754",
   "metadata": {},
   "outputs": [
    {
     "name": "stdout",
     "output_type": "stream",
     "text": [
      "[(1, 'a'), (1, 'b'), (1, 'c'), (2, 'a'), (2, 'b'), (2, 'c'), (3, 'a'), (3, 'b'), (3, 'c')]\n"
     ]
    }
   ],
   "source": [
    "def combine_list(list1,list2):\n",
    "    return [(x,y) for x in list1 for y in list2]\n",
    "list1 = [1, 2, 3]\n",
    "list2 = ['a', 'b', 'c']\n",
    "print(combine_list(list1,list2))"
   ]
  },
  {
   "cell_type": "markdown",
   "id": "baa0716a-cfae-420b-bd88-ea61a57c55cb",
   "metadata": {},
   "source": [
    "\n",
    "34. Write a program that calculates the mean, median, and mode of a list of numbers using list\n",
    "comprehension."
   ]
  },
  {
   "cell_type": "code",
   "execution_count": 16,
   "id": "13c86b1b-ca54-455f-820e-066e69428a0e",
   "metadata": {},
   "outputs": [
    {
     "name": "stdout",
     "output_type": "stream",
     "text": [
      "mode:5, mean:4.769230769230769, median:5.0\n",
      "mode:ModeResult(mode=array([5]), count=array([4])), mean:4.769230769230769,median:5.0 \n"
     ]
    },
    {
     "name": "stderr",
     "output_type": "stream",
     "text": [
      "/tmp/ipykernel_143/4026551788.py:9: FutureWarning: Unlike other reduction functions (e.g. `skew`, `kurtosis`), the default behavior of `mode` typically preserves the axis it acts along. In SciPy 1.11.0, this behavior will change: the default value of `keepdims` will become False, the `axis` over which the statistic is taken will be eliminated, and the value None will no longer be accepted. Set `keepdims` to True or False to avoid this warning.\n",
      "  mode_np = stats.mode(num_arr).mode[0]\n",
      "/tmp/ipykernel_143/4026551788.py:17: FutureWarning: Unlike other reduction functions (e.g. `skew`, `kurtosis`), the default behavior of `mode` typically preserves the axis it acts along. In SciPy 1.11.0, this behavior will change: the default value of `keepdims` will become False, the `axis` over which the statistic is taken will be eliminated, and the value None will no longer be accepted. Set `keepdims` to True or False to avoid this warning.\n",
      "  mode=stats.mode(num_arr)\n"
     ]
    }
   ],
   "source": [
    "import numpy as np\n",
    "\n",
    "from scipy import stats\n",
    "\n",
    "numbers = [5, 2, 6, 2, 7, 5, 8, 5, 4, 3, 5, 9, 1]\n",
    "num_arr = np.array([number for number in numbers])\n",
    "\n",
    "mean = np.mean(num_arr)\n",
    "mode_np = stats.mode(num_arr).mode[0]\n",
    "median = np.median(num_arr)\n",
    "\n",
    "print(f'mode:{mode_np}, mean:{mean}, median:{median}')\n",
    "\n",
    "numbers = [5, 2, 6, 2, 7, 5, 8, 5, 4, 3, 5, 9, 1]\n",
    "num_arr=np.array([number for number in numbers])\n",
    "mean=np.mean(num_arr)\n",
    "mode=stats.mode(num_arr)\n",
    "median=np.median(num_arr)\n",
    "print(f'mode:{mode}, mean:{mean},median:{median} ')"
   ]
  },
  {
   "cell_type": "markdown",
   "id": "0115b25e-896b-4244-8bd9-bd8014c9d65c",
   "metadata": {},
   "source": [
    "\n",
    "35. Create a program that generates Pascal's triangle up to a specified number of rows using list\n",
    "comprehension."
   ]
  },
  {
   "cell_type": "code",
   "execution_count": 17,
   "id": "50d2af7d-da5a-413e-81f3-c074028cc69b",
   "metadata": {},
   "outputs": [
    {
     "name": "stdin",
     "output_type": "stream",
     "text": [
      "Enter the number of rows for Pascal's triangle:  4\n"
     ]
    },
    {
     "name": "stdout",
     "output_type": "stream",
     "text": [
      "\n",
      "Pascal's Triangle:\n",
      "     1      \n",
      "    1 1     \n",
      "   1 2 1    \n",
      "  1 3 3 1   \n"
     ]
    }
   ],
   "source": [
    "def generate_pascals_triangle(num_rows):\n",
    "    if num_rows <= 0:\n",
    "        return []\n",
    "\n",
    "    triangle = [[1]]\n",
    "    for _ in range(1, num_rows):\n",
    "        row = [1] + [triangle[-1][i] + triangle[-1][i + 1] for i in range(len(triangle[-1]) - 1)] + [1]\n",
    "        triangle.append(row)\n",
    "\n",
    "    return triangle\n",
    "\n",
    "def print_pascals_triangle(triangle):\n",
    "    for row in triangle:\n",
    "        print(' '.join(map(str, row)).center(len(triangle[-1]) * 3))\n",
    "\n",
    "if __name__ == \"__main__\":\n",
    "    num_rows = int(input(\"Enter the number of rows for Pascal's triangle: \"))\n",
    "\n",
    "    pascals_triangle = generate_pascals_triangle(num_rows)\n",
    "    print(\"\\nPascal's Triangle:\")\n",
    "    print_pascals_triangle(pascals_triangle)\n"
   ]
  },
  {
   "cell_type": "markdown",
   "id": "815179cc-c007-4d88-a541-dd4570946fa1",
   "metadata": {},
   "source": [
    "\n",
    "36. Develop a program that calculates the sum of the digits of a factorial of numbers from 1 to 5 using list\n",
    "comprehension."
   ]
  },
  {
   "cell_type": "code",
   "execution_count": 5,
   "id": "f1a96b99-1659-4809-a124-03d835e23059",
   "metadata": {},
   "outputs": [
    {
     "name": "stdout",
     "output_type": "stream",
     "text": [
      "Sum of the digits for factorial of 1 : 1\n",
      "Sum of the digits for factorial of 2 : 2\n",
      "Sum of the digits for factorial of 3 : 6\n",
      "Sum of the digits for factorial of 4 : 6\n",
      "Sum of the digits for factorial of 5 : 3\n"
     ]
    }
   ],
   "source": [
    "def factorial(n):\n",
    "    return 1 if n == 0 or n == 1 else n * factorial(n - 1)\n",
    "\n",
    "digit_sums = [sum(int(digit) for digit in str(factorial(number))) for number in range(1, 6)]\n",
    "\n",
    "for i in range(1, 6):\n",
    "    print(\"Sum of the digits for factorial of\", i, \":\", digit_sums[i - 1])\n"
   ]
  },
  {
   "cell_type": "markdown",
   "id": "898d1018-8244-4f32-8576-00e30e49b27d",
   "metadata": {},
   "source": [
    "\n",
    "37. Write a program that finds the longest word in a sentence using list comprehension.\n"
   ]
  },
  {
   "cell_type": "code",
   "execution_count": 1,
   "id": "e00a4b34-3dd9-4028-9205-8c5b56c86193",
   "metadata": {},
   "outputs": [
    {
     "name": "stdin",
     "output_type": "stream",
     "text": [
      "Enter a sentence:  karan is a brave by lives in bhusawal\n"
     ]
    },
    {
     "name": "stdout",
     "output_type": "stream",
     "text": [
      "bhusawal\n"
     ]
    }
   ],
   "source": [
    "def find_longest(sentence):\n",
    "    words=sentence.split()\n",
    "    longest_word=max(words,key=len)\n",
    "    return longest_word\n",
    "input_sentence = input(\"Enter a sentence: \")\n",
    "longest_word =find_longest(input_sentence)\n",
    "print(longest_word)"
   ]
  },
  {
   "cell_type": "markdown",
   "id": "df104911-35e5-4cb3-a338-71fab5e1b0da",
   "metadata": {},
   "source": [
    "\n",
    "38. Create a program that filters a list of strings to include only those with more than three vowels using list\n",
    "comprehension."
   ]
  },
  {
   "cell_type": "code",
   "execution_count": 2,
   "id": "1eed6aec-ca1e-4c89-a3a6-0087c3e35f74",
   "metadata": {},
   "outputs": [
    {
     "name": "stdout",
     "output_type": "stream",
     "text": [
      "['openAI']\n"
     ]
    }
   ],
   "source": [
    "def count_vowels(word):\n",
    "    v='aeiouAEIOU'\n",
    "    return sum(1 for char in word if char in v)\n",
    "def filered(string):\n",
    "    return [word for word in string_list if count_vowels(word)>3]\n",
    "\n",
    "string_list = [\"hello\", \"world\", \"Python\", \"programming\", \"algorithm\", \"openAI\"]\n",
    "filter_list=filtered(string_list)\n",
    "print(filter_list)\n",
    "    "
   ]
  },
  {
   "cell_type": "markdown",
   "id": "2b92dc16-0247-45f1-9666-4204f76acddc",
   "metadata": {},
   "source": [
    "39. Develop a program that calculates the sum of the digits of numbers from 1 to 1000 using list\n",
    "comprehension."
   ]
  },
  {
   "cell_type": "code",
   "execution_count": 2,
   "id": "68c53262-2f35-40cb-abfa-fae7b14a9f1c",
   "metadata": {},
   "outputs": [
    {
     "name": "stdout",
     "output_type": "stream",
     "text": [
      "13501\n"
     ]
    }
   ],
   "source": [
    "sum1=[ sum(int(digits) for digits in  str(number)) for number in range(1,1001)]\n",
    "print(sum(sum1))"
   ]
  },
  {
   "cell_type": "markdown",
   "id": "75a9e1c1-fd3e-4e78-8d5e-f0985c5a749d",
   "metadata": {},
   "source": [
    "40. Write a program that generates a list of prime palindromic numbers using list comprehension."
   ]
  },
  {
   "cell_type": "code",
   "execution_count": 3,
   "id": "12480637-072d-4c5d-bd78-06116c13929f",
   "metadata": {},
   "outputs": [
    {
     "name": "stdout",
     "output_type": "stream",
     "text": [
      "Prime palindromic numbers: [2, 3, 5, 7, 11, 101, 131, 151, 181, 191, 313, 353, 373, 383, 727, 757, 787, 797, 919, 929]\n"
     ]
    }
   ],
   "source": [
    "def is_prime(n):\n",
    "    if n<2:\n",
    "        return False\n",
    "    for i in range(2,int(n**0.5)+1):\n",
    "        if n%i==0:\n",
    "            return False\n",
    "    return True\n",
    "def is_palindrome(n):\n",
    "    orignal_num=n\n",
    "    reversed_num=0\n",
    "    while n>0:\n",
    "        digits=n%10\n",
    "        reversed_num=reversed_num*10 + digits\n",
    "        n=n//10\n",
    "    return orignal_num==reversed_num\n",
    "limit=int(input(\"enter the limit of loop\"))\n",
    "prime_palindrome=[n for n in range(1,limit+1) if is_prime(n) and is_palindrome(n) ]\n",
    "print(prime_palindrome)\n",
    "    "
   ]
  },
  {
   "cell_type": "code",
   "execution_count": null,
   "id": "d3e3ad15-1490-4194-9537-26bf41ac3913",
   "metadata": {},
   "outputs": [],
   "source": []
  }
 ],
 "metadata": {
  "kernelspec": {
   "display_name": "Python 3 (ipykernel)",
   "language": "python",
   "name": "python3"
  },
  "language_info": {
   "codemirror_mode": {
    "name": "ipython",
    "version": 3
   },
   "file_extension": ".py",
   "mimetype": "text/x-python",
   "name": "python",
   "nbconvert_exporter": "python",
   "pygments_lexer": "ipython3",
   "version": "3.10.8"
  }
 },
 "nbformat": 4,
 "nbformat_minor": 5
}
